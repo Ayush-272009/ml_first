{
 "cells": [
  {
   "cell_type": "code",
   "execution_count": 1,
   "id": "d5a709fa",
   "metadata": {},
   "outputs": [],
   "source": [
    "import joblib"
   ]
  },
  {
   "cell_type": "code",
   "execution_count": 4,
   "id": "1ac30033",
   "metadata": {},
   "outputs": [],
   "source": [
    "mind = joblib.load('marks.pk1')"
   ]
  },
  {
   "cell_type": "code",
   "execution_count": 5,
   "id": "8359211d",
   "metadata": {},
   "outputs": [
    {
     "data": {
      "text/plain": [
       "array([90.])"
      ]
     },
     "execution_count": 5,
     "metadata": {},
     "output_type": "execute_result"
    }
   ],
   "source": [
    "mind.predict([[9]])"
   ]
  },
  {
   "cell_type": "code",
   "execution_count": null,
   "id": "03e7c873",
   "metadata": {},
   "outputs": [],
   "source": []
  }
 ],
 "metadata": {
  "kernelspec": {
   "display_name": "Python 3",
   "language": "python",
   "name": "python3"
  },
  "language_info": {
   "codemirror_mode": {
    "name": "ipython",
    "version": 3
   },
   "file_extension": ".py",
   "mimetype": "text/x-python",
   "name": "python",
   "nbconvert_exporter": "python",
   "pygments_lexer": "ipython3",
   "version": "3.8.8"
  }
 },
 "nbformat": 4,
 "nbformat_minor": 5
}
